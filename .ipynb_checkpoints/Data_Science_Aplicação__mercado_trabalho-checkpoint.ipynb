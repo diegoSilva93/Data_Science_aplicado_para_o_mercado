{
 "cells": [
  {
   "cell_type": "code",
   "execution_count": 1,
   "metadata": {
    "id": "wJXpoFkWjje7"
   },
   "outputs": [],
   "source": [
    "import pandas as pd\n",
    "import pathlib\n",
    "import numpy as np\n",
    "import matplotlib.pyplot as plt\n",
    "import seaborn as sns"
   ]
  },
  {
   "cell_type": "markdown",
   "metadata": {},
   "source": [
    "**Link Dataset:** https://www.kaggle.com/datasets/allanbruno/airbnb-rio-de-janeiro"
   ]
  },
  {
   "cell_type": "code",
   "execution_count": 2,
   "metadata": {
    "id": "e_hyx9YHvo5n"
   },
   "outputs": [],
   "source": [
    "caminho_dados = pathlib.Path(\"dataset\")\n",
    "\n",
    "base_airbnb = pd.DataFrame()\n",
    "meses = {\"jan\":1,\"fev\": 2, \"mar\": 3, \"abr\":4, \"mai\": 5, \"jun\": 6, \"jul\": 7, \"ago\": 8, \"set\": 9, \"out\": 10, \"nov\": 11, \"dez\": 12}\n"
   ]
  },
  {
   "cell_type": "code",
   "execution_count": 3,
   "metadata": {},
   "outputs": [
    {
     "name": "stderr",
     "output_type": "stream",
     "text": [
      "/tmp/ipykernel_20952/2807907861.py:3: DtypeWarning: Columns (87) have mixed types. Specify dtype option on import or set low_memory=False.\n",
      "  df = pd.read_csv(caminho_dados / arquivo.name)\n",
      "/tmp/ipykernel_20952/2807907861.py:4: FutureWarning: The frame.append method is deprecated and will be removed from pandas in a future version. Use pandas.concat instead.\n",
      "  base_airbnb = base_airbnb.append(df)\n",
      "/tmp/ipykernel_20952/2807907861.py:3: DtypeWarning: Columns (61,62,94) have mixed types. Specify dtype option on import or set low_memory=False.\n",
      "  df = pd.read_csv(caminho_dados / arquivo.name)\n",
      "/tmp/ipykernel_20952/2807907861.py:4: FutureWarning: The frame.append method is deprecated and will be removed from pandas in a future version. Use pandas.concat instead.\n",
      "  base_airbnb = base_airbnb.append(df)\n",
      "/tmp/ipykernel_20952/2807907861.py:3: DtypeWarning: Columns (61,62,94) have mixed types. Specify dtype option on import or set low_memory=False.\n",
      "  df = pd.read_csv(caminho_dados / arquivo.name)\n",
      "/tmp/ipykernel_20952/2807907861.py:4: FutureWarning: The frame.append method is deprecated and will be removed from pandas in a future version. Use pandas.concat instead.\n",
      "  base_airbnb = base_airbnb.append(df)\n",
      "/tmp/ipykernel_20952/2807907861.py:3: DtypeWarning: Columns (61,62,94) have mixed types. Specify dtype option on import or set low_memory=False.\n",
      "  df = pd.read_csv(caminho_dados / arquivo.name)\n",
      "/tmp/ipykernel_20952/2807907861.py:4: FutureWarning: The frame.append method is deprecated and will be removed from pandas in a future version. Use pandas.concat instead.\n",
      "  base_airbnb = base_airbnb.append(df)\n",
      "/tmp/ipykernel_20952/2807907861.py:3: DtypeWarning: Columns (61,62,94) have mixed types. Specify dtype option on import or set low_memory=False.\n",
      "  df = pd.read_csv(caminho_dados / arquivo.name)\n",
      "/tmp/ipykernel_20952/2807907861.py:4: FutureWarning: The frame.append method is deprecated and will be removed from pandas in a future version. Use pandas.concat instead.\n",
      "  base_airbnb = base_airbnb.append(df)\n",
      "/tmp/ipykernel_20952/2807907861.py:3: DtypeWarning: Columns (87) have mixed types. Specify dtype option on import or set low_memory=False.\n",
      "  df = pd.read_csv(caminho_dados / arquivo.name)\n",
      "/tmp/ipykernel_20952/2807907861.py:4: FutureWarning: The frame.append method is deprecated and will be removed from pandas in a future version. Use pandas.concat instead.\n",
      "  base_airbnb = base_airbnb.append(df)\n",
      "/tmp/ipykernel_20952/2807907861.py:3: DtypeWarning: Columns (61,62,94) have mixed types. Specify dtype option on import or set low_memory=False.\n",
      "  df = pd.read_csv(caminho_dados / arquivo.name)\n",
      "/tmp/ipykernel_20952/2807907861.py:4: FutureWarning: The frame.append method is deprecated and will be removed from pandas in a future version. Use pandas.concat instead.\n",
      "  base_airbnb = base_airbnb.append(df)\n",
      "/tmp/ipykernel_20952/2807907861.py:3: DtypeWarning: Columns (87) have mixed types. Specify dtype option on import or set low_memory=False.\n",
      "  df = pd.read_csv(caminho_dados / arquivo.name)\n",
      "/tmp/ipykernel_20952/2807907861.py:4: FutureWarning: The frame.append method is deprecated and will be removed from pandas in a future version. Use pandas.concat instead.\n",
      "  base_airbnb = base_airbnb.append(df)\n",
      "/tmp/ipykernel_20952/2807907861.py:3: DtypeWarning: Columns (62,87) have mixed types. Specify dtype option on import or set low_memory=False.\n",
      "  df = pd.read_csv(caminho_dados / arquivo.name)\n",
      "/tmp/ipykernel_20952/2807907861.py:4: FutureWarning: The frame.append method is deprecated and will be removed from pandas in a future version. Use pandas.concat instead.\n",
      "  base_airbnb = base_airbnb.append(df)\n",
      "/tmp/ipykernel_20952/2807907861.py:3: DtypeWarning: Columns (61,62,94) have mixed types. Specify dtype option on import or set low_memory=False.\n",
      "  df = pd.read_csv(caminho_dados / arquivo.name)\n",
      "/tmp/ipykernel_20952/2807907861.py:4: FutureWarning: The frame.append method is deprecated and will be removed from pandas in a future version. Use pandas.concat instead.\n",
      "  base_airbnb = base_airbnb.append(df)\n",
      "/tmp/ipykernel_20952/2807907861.py:3: DtypeWarning: Columns (61,62,94) have mixed types. Specify dtype option on import or set low_memory=False.\n",
      "  df = pd.read_csv(caminho_dados / arquivo.name)\n",
      "/tmp/ipykernel_20952/2807907861.py:4: FutureWarning: The frame.append method is deprecated and will be removed from pandas in a future version. Use pandas.concat instead.\n",
      "  base_airbnb = base_airbnb.append(df)\n",
      "/tmp/ipykernel_20952/2807907861.py:3: DtypeWarning: Columns (87) have mixed types. Specify dtype option on import or set low_memory=False.\n",
      "  df = pd.read_csv(caminho_dados / arquivo.name)\n",
      "/tmp/ipykernel_20952/2807907861.py:4: FutureWarning: The frame.append method is deprecated and will be removed from pandas in a future version. Use pandas.concat instead.\n",
      "  base_airbnb = base_airbnb.append(df)\n",
      "/tmp/ipykernel_20952/2807907861.py:3: DtypeWarning: Columns (87) have mixed types. Specify dtype option on import or set low_memory=False.\n",
      "  df = pd.read_csv(caminho_dados / arquivo.name)\n",
      "/tmp/ipykernel_20952/2807907861.py:4: FutureWarning: The frame.append method is deprecated and will be removed from pandas in a future version. Use pandas.concat instead.\n",
      "  base_airbnb = base_airbnb.append(df)\n",
      "/tmp/ipykernel_20952/2807907861.py:3: DtypeWarning: Columns (61,62,94) have mixed types. Specify dtype option on import or set low_memory=False.\n",
      "  df = pd.read_csv(caminho_dados / arquivo.name)\n",
      "/tmp/ipykernel_20952/2807907861.py:4: FutureWarning: The frame.append method is deprecated and will be removed from pandas in a future version. Use pandas.concat instead.\n",
      "  base_airbnb = base_airbnb.append(df)\n",
      "/tmp/ipykernel_20952/2807907861.py:3: DtypeWarning: Columns (61,62,94) have mixed types. Specify dtype option on import or set low_memory=False.\n",
      "  df = pd.read_csv(caminho_dados / arquivo.name)\n",
      "/tmp/ipykernel_20952/2807907861.py:4: FutureWarning: The frame.append method is deprecated and will be removed from pandas in a future version. Use pandas.concat instead.\n",
      "  base_airbnb = base_airbnb.append(df)\n",
      "/tmp/ipykernel_20952/2807907861.py:3: DtypeWarning: Columns (61,62,94) have mixed types. Specify dtype option on import or set low_memory=False.\n",
      "  df = pd.read_csv(caminho_dados / arquivo.name)\n",
      "/tmp/ipykernel_20952/2807907861.py:4: FutureWarning: The frame.append method is deprecated and will be removed from pandas in a future version. Use pandas.concat instead.\n",
      "  base_airbnb = base_airbnb.append(df)\n",
      "/tmp/ipykernel_20952/2807907861.py:3: DtypeWarning: Columns (61,62,94) have mixed types. Specify dtype option on import or set low_memory=False.\n",
      "  df = pd.read_csv(caminho_dados / arquivo.name)\n",
      "/tmp/ipykernel_20952/2807907861.py:4: FutureWarning: The frame.append method is deprecated and will be removed from pandas in a future version. Use pandas.concat instead.\n",
      "  base_airbnb = base_airbnb.append(df)\n",
      "/tmp/ipykernel_20952/2807907861.py:3: DtypeWarning: Columns (61,62,94) have mixed types. Specify dtype option on import or set low_memory=False.\n",
      "  df = pd.read_csv(caminho_dados / arquivo.name)\n",
      "/tmp/ipykernel_20952/2807907861.py:4: FutureWarning: The frame.append method is deprecated and will be removed from pandas in a future version. Use pandas.concat instead.\n",
      "  base_airbnb = base_airbnb.append(df)\n",
      "/tmp/ipykernel_20952/2807907861.py:3: DtypeWarning: Columns (61,62,94) have mixed types. Specify dtype option on import or set low_memory=False.\n",
      "  df = pd.read_csv(caminho_dados / arquivo.name)\n",
      "/tmp/ipykernel_20952/2807907861.py:4: FutureWarning: The frame.append method is deprecated and will be removed from pandas in a future version. Use pandas.concat instead.\n",
      "  base_airbnb = base_airbnb.append(df)\n",
      "/tmp/ipykernel_20952/2807907861.py:3: DtypeWarning: Columns (87) have mixed types. Specify dtype option on import or set low_memory=False.\n",
      "  df = pd.read_csv(caminho_dados / arquivo.name)\n",
      "/tmp/ipykernel_20952/2807907861.py:4: FutureWarning: The frame.append method is deprecated and will be removed from pandas in a future version. Use pandas.concat instead.\n",
      "  base_airbnb = base_airbnb.append(df)\n",
      "/tmp/ipykernel_20952/2807907861.py:3: DtypeWarning: Columns (61,62,94) have mixed types. Specify dtype option on import or set low_memory=False.\n",
      "  df = pd.read_csv(caminho_dados / arquivo.name)\n",
      "/tmp/ipykernel_20952/2807907861.py:4: FutureWarning: The frame.append method is deprecated and will be removed from pandas in a future version. Use pandas.concat instead.\n",
      "  base_airbnb = base_airbnb.append(df)\n"
     ]
    },
    {
     "name": "stderr",
     "output_type": "stream",
     "text": [
      "/tmp/ipykernel_20952/2807907861.py:3: DtypeWarning: Columns (61,62,94) have mixed types. Specify dtype option on import or set low_memory=False.\n",
      "  df = pd.read_csv(caminho_dados / arquivo.name)\n",
      "/tmp/ipykernel_20952/2807907861.py:4: FutureWarning: The frame.append method is deprecated and will be removed from pandas in a future version. Use pandas.concat instead.\n",
      "  base_airbnb = base_airbnb.append(df)\n",
      "/tmp/ipykernel_20952/2807907861.py:3: DtypeWarning: Columns (61,62,94) have mixed types. Specify dtype option on import or set low_memory=False.\n",
      "  df = pd.read_csv(caminho_dados / arquivo.name)\n",
      "/tmp/ipykernel_20952/2807907861.py:4: FutureWarning: The frame.append method is deprecated and will be removed from pandas in a future version. Use pandas.concat instead.\n",
      "  base_airbnb = base_airbnb.append(df)\n",
      "/tmp/ipykernel_20952/2807907861.py:3: DtypeWarning: Columns (87) have mixed types. Specify dtype option on import or set low_memory=False.\n",
      "  df = pd.read_csv(caminho_dados / arquivo.name)\n",
      "/tmp/ipykernel_20952/2807907861.py:4: FutureWarning: The frame.append method is deprecated and will be removed from pandas in a future version. Use pandas.concat instead.\n",
      "  base_airbnb = base_airbnb.append(df)\n",
      "/tmp/ipykernel_20952/2807907861.py:3: DtypeWarning: Columns (61,62,94) have mixed types. Specify dtype option on import or set low_memory=False.\n",
      "  df = pd.read_csv(caminho_dados / arquivo.name)\n",
      "/tmp/ipykernel_20952/2807907861.py:4: FutureWarning: The frame.append method is deprecated and will be removed from pandas in a future version. Use pandas.concat instead.\n",
      "  base_airbnb = base_airbnb.append(df)\n"
     ]
    },
    {
     "data": {
      "text/html": [
       "<div>\n",
       "<style scoped>\n",
       "    .dataframe tbody tr th:only-of-type {\n",
       "        vertical-align: middle;\n",
       "    }\n",
       "\n",
       "    .dataframe tbody tr th {\n",
       "        vertical-align: top;\n",
       "    }\n",
       "\n",
       "    .dataframe thead th {\n",
       "        text-align: right;\n",
       "    }\n",
       "</style>\n",
       "<table border=\"1\" class=\"dataframe\">\n",
       "  <thead>\n",
       "    <tr style=\"text-align: right;\">\n",
       "      <th></th>\n",
       "      <th>id</th>\n",
       "      <th>listing_url</th>\n",
       "      <th>scrape_id</th>\n",
       "      <th>last_scraped</th>\n",
       "      <th>name</th>\n",
       "      <th>summary</th>\n",
       "      <th>space</th>\n",
       "      <th>description</th>\n",
       "      <th>experiences_offered</th>\n",
       "      <th>neighborhood_overview</th>\n",
       "      <th>...</th>\n",
       "      <th>minimum_minimum_nights</th>\n",
       "      <th>maximum_minimum_nights</th>\n",
       "      <th>minimum_maximum_nights</th>\n",
       "      <th>maximum_maximum_nights</th>\n",
       "      <th>minimum_nights_avg_ntm</th>\n",
       "      <th>maximum_nights_avg_ntm</th>\n",
       "      <th>number_of_reviews_ltm</th>\n",
       "      <th>calculated_host_listings_count_entire_homes</th>\n",
       "      <th>calculated_host_listings_count_private_rooms</th>\n",
       "      <th>calculated_host_listings_count_shared_rooms</th>\n",
       "    </tr>\n",
       "  </thead>\n",
       "  <tbody>\n",
       "    <tr>\n",
       "      <th>0</th>\n",
       "      <td>17878</td>\n",
       "      <td>https://www.airbnb.com/rooms/17878</td>\n",
       "      <td>20181214040116</td>\n",
       "      <td>2018-12-14</td>\n",
       "      <td>Very Nice 2Br - Copacabana - WiFi</td>\n",
       "      <td>Please note that special rates apply for New Y...</td>\n",
       "      <td>- large balcony which looks out on pedestrian ...</td>\n",
       "      <td>Please note that special rates apply for New Y...</td>\n",
       "      <td>none</td>\n",
       "      <td>This is the best spot in Rio. Everything happe...</td>\n",
       "      <td>...</td>\n",
       "      <td>NaN</td>\n",
       "      <td>NaN</td>\n",
       "      <td>NaN</td>\n",
       "      <td>NaN</td>\n",
       "      <td>NaN</td>\n",
       "      <td>NaN</td>\n",
       "      <td>NaN</td>\n",
       "      <td>NaN</td>\n",
       "      <td>NaN</td>\n",
       "      <td>NaN</td>\n",
       "    </tr>\n",
       "    <tr>\n",
       "      <th>1</th>\n",
       "      <td>24480</td>\n",
       "      <td>https://www.airbnb.com/rooms/24480</td>\n",
       "      <td>20181214040116</td>\n",
       "      <td>2018-12-14</td>\n",
       "      <td>Nice and cozy near Ipanema Beach</td>\n",
       "      <td>My studio is located in the best  of Ipanema. ...</td>\n",
       "      <td>The studio is located at Vinicius de Moraes St...</td>\n",
       "      <td>My studio is located in the best  of Ipanema. ...</td>\n",
       "      <td>none</td>\n",
       "      <td>The beach, the lagoon, Ipanema is a great loca...</td>\n",
       "      <td>...</td>\n",
       "      <td>NaN</td>\n",
       "      <td>NaN</td>\n",
       "      <td>NaN</td>\n",
       "      <td>NaN</td>\n",
       "      <td>NaN</td>\n",
       "      <td>NaN</td>\n",
       "      <td>NaN</td>\n",
       "      <td>NaN</td>\n",
       "      <td>NaN</td>\n",
       "      <td>NaN</td>\n",
       "    </tr>\n",
       "    <tr>\n",
       "      <th>2</th>\n",
       "      <td>25026</td>\n",
       "      <td>https://www.airbnb.com/rooms/25026</td>\n",
       "      <td>20181214040116</td>\n",
       "      <td>2018-12-14</td>\n",
       "      <td>Beautiful Modern Decorated Studio in Copa</td>\n",
       "      <td>Our apartment is a little gem, everyone loves ...</td>\n",
       "      <td>This newly renovated studio (last renovations ...</td>\n",
       "      <td>Our apartment is a little gem, everyone loves ...</td>\n",
       "      <td>none</td>\n",
       "      <td>Copacabana is a lively neighborhood and the ap...</td>\n",
       "      <td>...</td>\n",
       "      <td>NaN</td>\n",
       "      <td>NaN</td>\n",
       "      <td>NaN</td>\n",
       "      <td>NaN</td>\n",
       "      <td>NaN</td>\n",
       "      <td>NaN</td>\n",
       "      <td>NaN</td>\n",
       "      <td>NaN</td>\n",
       "      <td>NaN</td>\n",
       "      <td>NaN</td>\n",
       "    </tr>\n",
       "    <tr>\n",
       "      <th>3</th>\n",
       "      <td>31560</td>\n",
       "      <td>https://www.airbnb.com/rooms/31560</td>\n",
       "      <td>20181214040116</td>\n",
       "      <td>2018-12-14</td>\n",
       "      <td>NICE &amp; COZY 1BDR - IPANEMA BEACH</td>\n",
       "      <td>This nice and clean 1 bedroom apartment is loc...</td>\n",
       "      <td>This nice and clean 1 bedroom apartment is loc...</td>\n",
       "      <td>This nice and clean 1 bedroom apartment is loc...</td>\n",
       "      <td>none</td>\n",
       "      <td>Die Nachbarschaft von Ipanema ist super lebend...</td>\n",
       "      <td>...</td>\n",
       "      <td>NaN</td>\n",
       "      <td>NaN</td>\n",
       "      <td>NaN</td>\n",
       "      <td>NaN</td>\n",
       "      <td>NaN</td>\n",
       "      <td>NaN</td>\n",
       "      <td>NaN</td>\n",
       "      <td>NaN</td>\n",
       "      <td>NaN</td>\n",
       "      <td>NaN</td>\n",
       "    </tr>\n",
       "    <tr>\n",
       "      <th>4</th>\n",
       "      <td>34608</td>\n",
       "      <td>https://www.airbnb.com/rooms/34608</td>\n",
       "      <td>20181214040116</td>\n",
       "      <td>2018-12-14</td>\n",
       "      <td>São-Conrado House with Ocean View</td>\n",
       "      <td>NaN</td>\n",
       "      <td>Its a House inside a very good condo with 2...</td>\n",
       "      <td>Its a House inside a very good condo with 2...</td>\n",
       "      <td>none</td>\n",
       "      <td>NaN</td>\n",
       "      <td>...</td>\n",
       "      <td>NaN</td>\n",
       "      <td>NaN</td>\n",
       "      <td>NaN</td>\n",
       "      <td>NaN</td>\n",
       "      <td>NaN</td>\n",
       "      <td>NaN</td>\n",
       "      <td>NaN</td>\n",
       "      <td>NaN</td>\n",
       "      <td>NaN</td>\n",
       "      <td>NaN</td>\n",
       "    </tr>\n",
       "    <tr>\n",
       "      <th>...</th>\n",
       "      <td>...</td>\n",
       "      <td>...</td>\n",
       "      <td>...</td>\n",
       "      <td>...</td>\n",
       "      <td>...</td>\n",
       "      <td>...</td>\n",
       "      <td>...</td>\n",
       "      <td>...</td>\n",
       "      <td>...</td>\n",
       "      <td>...</td>\n",
       "      <td>...</td>\n",
       "      <td>...</td>\n",
       "      <td>...</td>\n",
       "      <td>...</td>\n",
       "      <td>...</td>\n",
       "      <td>...</td>\n",
       "      <td>...</td>\n",
       "      <td>...</td>\n",
       "      <td>...</td>\n",
       "      <td>...</td>\n",
       "      <td>...</td>\n",
       "    </tr>\n",
       "    <tr>\n",
       "      <th>36373</th>\n",
       "      <td>33014188</td>\n",
       "      <td>https://www.airbnb.com/rooms/33014188</td>\n",
       "      <td>20190313042552</td>\n",
       "      <td>2019-03-13</td>\n",
       "      <td>Ótimo apartamento à 3 ruas da praia</td>\n",
       "      <td>NaN</td>\n",
       "      <td>NaN</td>\n",
       "      <td>O bairro é simplesmente maravilhoso, a 5min a ...</td>\n",
       "      <td>none</td>\n",
       "      <td>O bairro é simplesmente maravilhoso, a 5min a ...</td>\n",
       "      <td>...</td>\n",
       "      <td>3.0</td>\n",
       "      <td>3.0</td>\n",
       "      <td>1125.0</td>\n",
       "      <td>1125.0</td>\n",
       "      <td>3.0</td>\n",
       "      <td>1125.0</td>\n",
       "      <td>0.0</td>\n",
       "      <td>1.0</td>\n",
       "      <td>0.0</td>\n",
       "      <td>0.0</td>\n",
       "    </tr>\n",
       "    <tr>\n",
       "      <th>36374</th>\n",
       "      <td>33014427</td>\n",
       "      <td>https://www.airbnb.com/rooms/33014427</td>\n",
       "      <td>20190313042552</td>\n",
       "      <td>2019-03-13</td>\n",
       "      <td>Maravilhoso Apto Com Vista Total Do Mar!!</td>\n",
       "      <td>Apartamento recém reformado, novinho e pronto ...</td>\n",
       "      <td>NaN</td>\n",
       "      <td>Apartamento recém reformado, novinho e pronto ...</td>\n",
       "      <td>none</td>\n",
       "      <td>NaN</td>\n",
       "      <td>...</td>\n",
       "      <td>2.0</td>\n",
       "      <td>2.0</td>\n",
       "      <td>60.0</td>\n",
       "      <td>60.0</td>\n",
       "      <td>2.0</td>\n",
       "      <td>60.0</td>\n",
       "      <td>0.0</td>\n",
       "      <td>1.0</td>\n",
       "      <td>0.0</td>\n",
       "      <td>0.0</td>\n",
       "    </tr>\n",
       "    <tr>\n",
       "      <th>36375</th>\n",
       "      <td>33016673</td>\n",
       "      <td>https://www.airbnb.com/rooms/33016673</td>\n",
       "      <td>20190313042552</td>\n",
       "      <td>2019-03-13</td>\n",
       "      <td>Próximo metrô largo do Machado e catete</td>\n",
       "      <td>NaN</td>\n",
       "      <td>NaN</td>\n",
       "      <td>Próximo ao metrô largo do Machado e catete, me...</td>\n",
       "      <td>none</td>\n",
       "      <td>Próximo ao metrô largo do Machado e catete, me...</td>\n",
       "      <td>...</td>\n",
       "      <td>1.0</td>\n",
       "      <td>1.0</td>\n",
       "      <td>5.0</td>\n",
       "      <td>5.0</td>\n",
       "      <td>1.0</td>\n",
       "      <td>5.0</td>\n",
       "      <td>0.0</td>\n",
       "      <td>1.0</td>\n",
       "      <td>0.0</td>\n",
       "      <td>0.0</td>\n",
       "    </tr>\n",
       "    <tr>\n",
       "      <th>36376</th>\n",
       "      <td>33021915</td>\n",
       "      <td>https://www.airbnb.com/rooms/33021915</td>\n",
       "      <td>20190313042552</td>\n",
       "      <td>2019-03-13</td>\n",
       "      <td>Aconchegante apt no posto 2, 100m praia, vista...</td>\n",
       "      <td>NaN</td>\n",
       "      <td>NaN</td>\n",
       "      <td>NaN</td>\n",
       "      <td>none</td>\n",
       "      <td>NaN</td>\n",
       "      <td>...</td>\n",
       "      <td>2.0</td>\n",
       "      <td>2.0</td>\n",
       "      <td>25.0</td>\n",
       "      <td>25.0</td>\n",
       "      <td>2.0</td>\n",
       "      <td>25.0</td>\n",
       "      <td>0.0</td>\n",
       "      <td>23.0</td>\n",
       "      <td>0.0</td>\n",
       "      <td>0.0</td>\n",
       "    </tr>\n",
       "    <tr>\n",
       "      <th>36377</th>\n",
       "      <td>33022085</td>\n",
       "      <td>https://www.airbnb.com/rooms/33022085</td>\n",
       "      <td>20190313042552</td>\n",
       "      <td>2019-03-13</td>\n",
       "      <td>Belíssimo conjugado no posto 2, a 100m praia</td>\n",
       "      <td>NaN</td>\n",
       "      <td>NaN</td>\n",
       "      <td>NaN</td>\n",
       "      <td>none</td>\n",
       "      <td>NaN</td>\n",
       "      <td>...</td>\n",
       "      <td>2.0</td>\n",
       "      <td>2.0</td>\n",
       "      <td>25.0</td>\n",
       "      <td>25.0</td>\n",
       "      <td>2.0</td>\n",
       "      <td>25.0</td>\n",
       "      <td>0.0</td>\n",
       "      <td>23.0</td>\n",
       "      <td>0.0</td>\n",
       "      <td>0.0</td>\n",
       "    </tr>\n",
       "  </tbody>\n",
       "</table>\n",
       "<p>902210 rows × 106 columns</p>\n",
       "</div>"
      ],
      "text/plain": [
       "             id                            listing_url       scrape_id  \\\n",
       "0         17878     https://www.airbnb.com/rooms/17878  20181214040116   \n",
       "1         24480     https://www.airbnb.com/rooms/24480  20181214040116   \n",
       "2         25026     https://www.airbnb.com/rooms/25026  20181214040116   \n",
       "3         31560     https://www.airbnb.com/rooms/31560  20181214040116   \n",
       "4         34608     https://www.airbnb.com/rooms/34608  20181214040116   \n",
       "...         ...                                    ...             ...   \n",
       "36373  33014188  https://www.airbnb.com/rooms/33014188  20190313042552   \n",
       "36374  33014427  https://www.airbnb.com/rooms/33014427  20190313042552   \n",
       "36375  33016673  https://www.airbnb.com/rooms/33016673  20190313042552   \n",
       "36376  33021915  https://www.airbnb.com/rooms/33021915  20190313042552   \n",
       "36377  33022085  https://www.airbnb.com/rooms/33022085  20190313042552   \n",
       "\n",
       "      last_scraped                                               name  \\\n",
       "0       2018-12-14                  Very Nice 2Br - Copacabana - WiFi   \n",
       "1       2018-12-14                   Nice and cozy near Ipanema Beach   \n",
       "2       2018-12-14          Beautiful Modern Decorated Studio in Copa   \n",
       "3       2018-12-14                   NICE & COZY 1BDR - IPANEMA BEACH   \n",
       "4       2018-12-14                São-Conrado House with Ocean View     \n",
       "...            ...                                                ...   \n",
       "36373   2019-03-13                Ótimo apartamento à 3 ruas da praia   \n",
       "36374   2019-03-13          Maravilhoso Apto Com Vista Total Do Mar!!   \n",
       "36375   2019-03-13            Próximo metrô largo do Machado e catete   \n",
       "36376   2019-03-13  Aconchegante apt no posto 2, 100m praia, vista...   \n",
       "36377   2019-03-13       Belíssimo conjugado no posto 2, a 100m praia   \n",
       "\n",
       "                                                 summary  \\\n",
       "0      Please note that special rates apply for New Y...   \n",
       "1      My studio is located in the best  of Ipanema. ...   \n",
       "2      Our apartment is a little gem, everyone loves ...   \n",
       "3      This nice and clean 1 bedroom apartment is loc...   \n",
       "4                                                    NaN   \n",
       "...                                                  ...   \n",
       "36373                                                NaN   \n",
       "36374  Apartamento recém reformado, novinho e pronto ...   \n",
       "36375                                                NaN   \n",
       "36376                                                NaN   \n",
       "36377                                                NaN   \n",
       "\n",
       "                                                   space  \\\n",
       "0      - large balcony which looks out on pedestrian ...   \n",
       "1      The studio is located at Vinicius de Moraes St...   \n",
       "2      This newly renovated studio (last renovations ...   \n",
       "3      This nice and clean 1 bedroom apartment is loc...   \n",
       "4         Its a House inside a very good condo with 2...   \n",
       "...                                                  ...   \n",
       "36373                                                NaN   \n",
       "36374                                                NaN   \n",
       "36375                                                NaN   \n",
       "36376                                                NaN   \n",
       "36377                                                NaN   \n",
       "\n",
       "                                             description experiences_offered  \\\n",
       "0      Please note that special rates apply for New Y...                none   \n",
       "1      My studio is located in the best  of Ipanema. ...                none   \n",
       "2      Our apartment is a little gem, everyone loves ...                none   \n",
       "3      This nice and clean 1 bedroom apartment is loc...                none   \n",
       "4         Its a House inside a very good condo with 2...                none   \n",
       "...                                                  ...                 ...   \n",
       "36373  O bairro é simplesmente maravilhoso, a 5min a ...                none   \n",
       "36374  Apartamento recém reformado, novinho e pronto ...                none   \n",
       "36375  Próximo ao metrô largo do Machado e catete, me...                none   \n",
       "36376                                                NaN                none   \n",
       "36377                                                NaN                none   \n",
       "\n",
       "                                   neighborhood_overview  ...  \\\n",
       "0      This is the best spot in Rio. Everything happe...  ...   \n",
       "1      The beach, the lagoon, Ipanema is a great loca...  ...   \n",
       "2      Copacabana is a lively neighborhood and the ap...  ...   \n",
       "3      Die Nachbarschaft von Ipanema ist super lebend...  ...   \n",
       "4                                                    NaN  ...   \n",
       "...                                                  ...  ...   \n",
       "36373  O bairro é simplesmente maravilhoso, a 5min a ...  ...   \n",
       "36374                                                NaN  ...   \n",
       "36375  Próximo ao metrô largo do Machado e catete, me...  ...   \n",
       "36376                                                NaN  ...   \n",
       "36377                                                NaN  ...   \n",
       "\n",
       "      minimum_minimum_nights maximum_minimum_nights minimum_maximum_nights  \\\n",
       "0                        NaN                    NaN                    NaN   \n",
       "1                        NaN                    NaN                    NaN   \n",
       "2                        NaN                    NaN                    NaN   \n",
       "3                        NaN                    NaN                    NaN   \n",
       "4                        NaN                    NaN                    NaN   \n",
       "...                      ...                    ...                    ...   \n",
       "36373                    3.0                    3.0                 1125.0   \n",
       "36374                    2.0                    2.0                   60.0   \n",
       "36375                    1.0                    1.0                    5.0   \n",
       "36376                    2.0                    2.0                   25.0   \n",
       "36377                    2.0                    2.0                   25.0   \n",
       "\n",
       "      maximum_maximum_nights minimum_nights_avg_ntm  maximum_nights_avg_ntm  \\\n",
       "0                        NaN                    NaN                     NaN   \n",
       "1                        NaN                    NaN                     NaN   \n",
       "2                        NaN                    NaN                     NaN   \n",
       "3                        NaN                    NaN                     NaN   \n",
       "4                        NaN                    NaN                     NaN   \n",
       "...                      ...                    ...                     ...   \n",
       "36373                 1125.0                    3.0                  1125.0   \n",
       "36374                   60.0                    2.0                    60.0   \n",
       "36375                    5.0                    1.0                     5.0   \n",
       "36376                   25.0                    2.0                    25.0   \n",
       "36377                   25.0                    2.0                    25.0   \n",
       "\n",
       "       number_of_reviews_ltm calculated_host_listings_count_entire_homes  \\\n",
       "0                        NaN                                         NaN   \n",
       "1                        NaN                                         NaN   \n",
       "2                        NaN                                         NaN   \n",
       "3                        NaN                                         NaN   \n",
       "4                        NaN                                         NaN   \n",
       "...                      ...                                         ...   \n",
       "36373                    0.0                                         1.0   \n",
       "36374                    0.0                                         1.0   \n",
       "36375                    0.0                                         1.0   \n",
       "36376                    0.0                                        23.0   \n",
       "36377                    0.0                                        23.0   \n",
       "\n",
       "       calculated_host_listings_count_private_rooms  \\\n",
       "0                                               NaN   \n",
       "1                                               NaN   \n",
       "2                                               NaN   \n",
       "3                                               NaN   \n",
       "4                                               NaN   \n",
       "...                                             ...   \n",
       "36373                                           0.0   \n",
       "36374                                           0.0   \n",
       "36375                                           0.0   \n",
       "36376                                           0.0   \n",
       "36377                                           0.0   \n",
       "\n",
       "       calculated_host_listings_count_shared_rooms  \n",
       "0                                              NaN  \n",
       "1                                              NaN  \n",
       "2                                              NaN  \n",
       "3                                              NaN  \n",
       "4                                              NaN  \n",
       "...                                            ...  \n",
       "36373                                          0.0  \n",
       "36374                                          0.0  \n",
       "36375                                          0.0  \n",
       "36376                                          0.0  \n",
       "36377                                          0.0  \n",
       "\n",
       "[902210 rows x 106 columns]"
      ]
     },
     "metadata": {},
     "output_type": "display_data"
    }
   ],
   "source": [
    "for arquivo in caminho_dados.iterdir():\n",
    "    nome_mes = arquivo.name[:3]\n",
    "    df = pd.read_csv(caminho_dados / arquivo.name)\n",
    "    base_airbnb = base_airbnb.append(df)\n",
    "    mes = meses[nome_mes]\n",
    "    ano = arquivo.name[-8:]\n",
    "    ano = int(ano.replace(\".csv\", \"\"))\n",
    "    df[\"mes\"] = mes\n",
    "    df[\"ano\"] = ano\n",
    "display(base_airbnb)"
   ]
  },
  {
   "cell_type": "markdown",
   "metadata": {},
   "source": [
    "Devido ao grande número de colunas, pode ocorrer de ter colunas desnecessárias, o que pode tornar o código lento, sendo assim, inicialmente será realizado uma análise qualitativa realizado através de um arquivo excel.   "
   ]
  },
  {
   "cell_type": "markdown",
   "metadata": {},
   "source": [
    "**Para criarmos um arquivo excel com python, fazemos o seguinte;**"
   ]
  },
  {
   "cell_type": "code",
   "execution_count": null,
   "metadata": {},
   "outputs": [],
   "source": [
    "base_airbnb.head(1000).to_csv(\"Primeiros_registros.csv\")"
   ]
  },
  {
   "cell_type": "markdown",
   "metadata": {},
   "source": [
    "Após a análise qualitativa realizada no arquivo \"base_airbnb\" ficamos com a seguintes colunas"
   ]
  },
  {
   "cell_type": "code",
   "execution_count": 4,
   "metadata": {},
   "outputs": [],
   "source": [
    "novos_dados = pd.read_csv(\"Primeiros_registros.csv\")"
   ]
  },
  {
   "cell_type": "code",
   "execution_count": 5,
   "metadata": {},
   "outputs": [],
   "source": [
    "base_airbnb = novos_dados"
   ]
  },
  {
   "cell_type": "code",
   "execution_count": 6,
   "metadata": {},
   "outputs": [
    {
     "data": {
      "text/plain": [
       "(1000, 38)"
      ]
     },
     "execution_count": 6,
     "metadata": {},
     "output_type": "execute_result"
    }
   ],
   "source": [
    "base_airbnb.shape"
   ]
  },
  {
   "cell_type": "code",
   "execution_count": 7,
   "metadata": {},
   "outputs": [
    {
     "data": {
      "text/html": [
       "<div>\n",
       "<style scoped>\n",
       "    .dataframe tbody tr th:only-of-type {\n",
       "        vertical-align: middle;\n",
       "    }\n",
       "\n",
       "    .dataframe tbody tr th {\n",
       "        vertical-align: top;\n",
       "    }\n",
       "\n",
       "    .dataframe thead th {\n",
       "        text-align: right;\n",
       "    }\n",
       "</style>\n",
       "<table border=\"1\" class=\"dataframe\">\n",
       "  <thead>\n",
       "    <tr style=\"text-align: right;\">\n",
       "      <th></th>\n",
       "      <th>host_response_rate</th>\n",
       "      <th>host_is_superhost</th>\n",
       "      <th>host_total_listings_count</th>\n",
       "      <th>latitude</th>\n",
       "      <th>longitude</th>\n",
       "      <th>is_location_exact</th>\n",
       "      <th>property_type</th>\n",
       "      <th>room_type</th>\n",
       "      <th>accommodates</th>\n",
       "      <th>bathrooms</th>\n",
       "      <th>...</th>\n",
       "      <th>review_scores_cleanliness</th>\n",
       "      <th>review_scores_checkin</th>\n",
       "      <th>review_scores_communication</th>\n",
       "      <th>review_scores_location</th>\n",
       "      <th>review_scores_value</th>\n",
       "      <th>is_business_travel_ready</th>\n",
       "      <th>cancellation_policy</th>\n",
       "      <th>require_guest_phone_verification</th>\n",
       "      <th>calculated_host_listings_count</th>\n",
       "      <th>reviews_per_month</th>\n",
       "    </tr>\n",
       "  </thead>\n",
       "  <tbody>\n",
       "    <tr>\n",
       "      <th>0</th>\n",
       "      <td>100%</td>\n",
       "      <td>f</td>\n",
       "      <td>2.0</td>\n",
       "      <td>-2.296.591.903.141.140,00</td>\n",
       "      <td>-4.317.896.230.586.560,00</td>\n",
       "      <td>t</td>\n",
       "      <td>Condominium</td>\n",
       "      <td>Entire home/apt</td>\n",
       "      <td>5</td>\n",
       "      <td>1.0</td>\n",
       "      <td>...</td>\n",
       "      <td>9.0</td>\n",
       "      <td>10.0</td>\n",
       "      <td>10.0</td>\n",
       "      <td>10.0</td>\n",
       "      <td>9.0</td>\n",
       "      <td>f</td>\n",
       "      <td>strict_14_with_grace_period</td>\n",
       "      <td>f</td>\n",
       "      <td>1</td>\n",
       "      <td>2.12</td>\n",
       "    </tr>\n",
       "    <tr>\n",
       "      <th>1</th>\n",
       "      <td>NaN</td>\n",
       "      <td>f</td>\n",
       "      <td>1.0</td>\n",
       "      <td>-229.856.978.888.963,00</td>\n",
       "      <td>-4.320.193.477.968.930,00</td>\n",
       "      <td>t</td>\n",
       "      <td>Apartment</td>\n",
       "      <td>Entire home/apt</td>\n",
       "      <td>2</td>\n",
       "      <td>1.0</td>\n",
       "      <td>...</td>\n",
       "      <td>10.0</td>\n",
       "      <td>10.0</td>\n",
       "      <td>10.0</td>\n",
       "      <td>10.0</td>\n",
       "      <td>9.0</td>\n",
       "      <td>f</td>\n",
       "      <td>strict_14_with_grace_period</td>\n",
       "      <td>f</td>\n",
       "      <td>1</td>\n",
       "      <td>0.85</td>\n",
       "    </tr>\n",
       "    <tr>\n",
       "      <th>2</th>\n",
       "      <td>100%</td>\n",
       "      <td>f</td>\n",
       "      <td>3.0</td>\n",
       "      <td>-22.977.116.804.101.800,00</td>\n",
       "      <td>-4.319.045.414.722.080,00</td>\n",
       "      <td>t</td>\n",
       "      <td>Apartment</td>\n",
       "      <td>Entire home/apt</td>\n",
       "      <td>3</td>\n",
       "      <td>1.0</td>\n",
       "      <td>...</td>\n",
       "      <td>10.0</td>\n",
       "      <td>10.0</td>\n",
       "      <td>10.0</td>\n",
       "      <td>10.0</td>\n",
       "      <td>9.0</td>\n",
       "      <td>f</td>\n",
       "      <td>strict_14_with_grace_period</td>\n",
       "      <td>t</td>\n",
       "      <td>3</td>\n",
       "      <td>2.11</td>\n",
       "    </tr>\n",
       "    <tr>\n",
       "      <th>3</th>\n",
       "      <td>100%</td>\n",
       "      <td>t</td>\n",
       "      <td>1.0</td>\n",
       "      <td>-2.298.302.369.705.460,00</td>\n",
       "      <td>-4.321.427.004.586.680,00</td>\n",
       "      <td>t</td>\n",
       "      <td>Apartment</td>\n",
       "      <td>Entire home/apt</td>\n",
       "      <td>3</td>\n",
       "      <td>1.0</td>\n",
       "      <td>...</td>\n",
       "      <td>10.0</td>\n",
       "      <td>10.0</td>\n",
       "      <td>10.0</td>\n",
       "      <td>10.0</td>\n",
       "      <td>9.0</td>\n",
       "      <td>f</td>\n",
       "      <td>strict_14_with_grace_period</td>\n",
       "      <td>f</td>\n",
       "      <td>1</td>\n",
       "      <td>2.27</td>\n",
       "    </tr>\n",
       "    <tr>\n",
       "      <th>4</th>\n",
       "      <td>95%</td>\n",
       "      <td>f</td>\n",
       "      <td>8.0</td>\n",
       "      <td>-2.299.866.853.833.120,00</td>\n",
       "      <td>-43.271.371.708.825.000,00</td>\n",
       "      <td>f</td>\n",
       "      <td>House</td>\n",
       "      <td>Entire home/apt</td>\n",
       "      <td>15</td>\n",
       "      <td>4.0</td>\n",
       "      <td>...</td>\n",
       "      <td>NaN</td>\n",
       "      <td>NaN</td>\n",
       "      <td>NaN</td>\n",
       "      <td>NaN</td>\n",
       "      <td>NaN</td>\n",
       "      <td>f</td>\n",
       "      <td>strict_14_with_grace_period</td>\n",
       "      <td>f</td>\n",
       "      <td>8</td>\n",
       "      <td>NaN</td>\n",
       "    </tr>\n",
       "  </tbody>\n",
       "</table>\n",
       "<p>5 rows × 38 columns</p>\n",
       "</div>"
      ],
      "text/plain": [
       "  host_response_rate host_is_superhost  host_total_listings_count  \\\n",
       "0               100%                 f                        2.0   \n",
       "1                NaN                 f                        1.0   \n",
       "2               100%                 f                        3.0   \n",
       "3               100%                 t                        1.0   \n",
       "4                95%                 f                        8.0   \n",
       "\n",
       "                     latitude                   longitude is_location_exact  \\\n",
       "0   -2.296.591.903.141.140,00   -4.317.896.230.586.560,00                 t   \n",
       "1     -229.856.978.888.963,00   -4.320.193.477.968.930,00                 t   \n",
       "2  -22.977.116.804.101.800,00   -4.319.045.414.722.080,00                 t   \n",
       "3   -2.298.302.369.705.460,00   -4.321.427.004.586.680,00                 t   \n",
       "4   -2.299.866.853.833.120,00  -43.271.371.708.825.000,00                 f   \n",
       "\n",
       "  property_type        room_type  accommodates  bathrooms  ...  \\\n",
       "0   Condominium  Entire home/apt             5        1.0  ...   \n",
       "1     Apartment  Entire home/apt             2        1.0  ...   \n",
       "2     Apartment  Entire home/apt             3        1.0  ...   \n",
       "3     Apartment  Entire home/apt             3        1.0  ...   \n",
       "4         House  Entire home/apt            15        4.0  ...   \n",
       "\n",
       "   review_scores_cleanliness  review_scores_checkin  \\\n",
       "0                        9.0                   10.0   \n",
       "1                       10.0                   10.0   \n",
       "2                       10.0                   10.0   \n",
       "3                       10.0                   10.0   \n",
       "4                        NaN                    NaN   \n",
       "\n",
       "  review_scores_communication review_scores_location  review_scores_value  \\\n",
       "0                        10.0                   10.0                  9.0   \n",
       "1                        10.0                   10.0                  9.0   \n",
       "2                        10.0                   10.0                  9.0   \n",
       "3                        10.0                   10.0                  9.0   \n",
       "4                         NaN                    NaN                  NaN   \n",
       "\n",
       "  is_business_travel_ready          cancellation_policy  \\\n",
       "0                        f  strict_14_with_grace_period   \n",
       "1                        f  strict_14_with_grace_period   \n",
       "2                        f  strict_14_with_grace_period   \n",
       "3                        f  strict_14_with_grace_period   \n",
       "4                        f  strict_14_with_grace_period   \n",
       "\n",
       "  require_guest_phone_verification calculated_host_listings_count  \\\n",
       "0                                f                              1   \n",
       "1                                f                              1   \n",
       "2                                t                              3   \n",
       "3                                f                              1   \n",
       "4                                f                              8   \n",
       "\n",
       "  reviews_per_month  \n",
       "0              2.12  \n",
       "1              0.85  \n",
       "2              2.11  \n",
       "3              2.27  \n",
       "4               NaN  \n",
       "\n",
       "[5 rows x 38 columns]"
      ]
     },
     "execution_count": 7,
     "metadata": {},
     "output_type": "execute_result"
    }
   ],
   "source": [
    "base_airbnb.head()"
   ]
  },
  {
   "cell_type": "code",
   "execution_count": 8,
   "metadata": {},
   "outputs": [
    {
     "name": "stdout",
     "output_type": "stream",
     "text": [
      "host_response_rate                   263\n",
      "host_is_superhost                      0\n",
      "host_total_listings_count              0\n",
      "latitude                               0\n",
      "longitude                              0\n",
      "is_location_exact                      0\n",
      "property_type                          0\n",
      "room_type                              0\n",
      "accommodates                           0\n",
      "bathrooms                             41\n",
      "bedrooms                               1\n",
      "beds                                  10\n",
      "bed_type                               0\n",
      "amenities                              0\n",
      "Unnamed: 14                         1000\n",
      "price                                  0\n",
      "weekly_price                         675\n",
      "monthly_price                        649\n",
      "security_deposit                     338\n",
      "cleaning_fee                         234\n",
      "guests_included                        0\n",
      "extra_people                           0\n",
      "minimum_nights                         0\n",
      "maximum_nights                         0\n",
      "has_availability                       0\n",
      "number_of_reviews                      0\n",
      "review_scores_rating                 203\n",
      "review_scores_accuracy               202\n",
      "review_scores_cleanliness            202\n",
      "review_scores_checkin                202\n",
      "review_scores_communication          202\n",
      "review_scores_location               202\n",
      "review_scores_value                  202\n",
      "is_business_travel_ready               0\n",
      "cancellation_policy                    0\n",
      "require_guest_phone_verification       0\n",
      "calculated_host_listings_count         0\n",
      "reviews_per_month                    192\n",
      "dtype: int64\n"
     ]
    }
   ],
   "source": [
    "print(base_airbnb.isnull().sum())"
   ]
  },
  {
   "cell_type": "code",
   "execution_count": 9,
   "metadata": {},
   "outputs": [
    {
     "data": {
      "text/html": [
       "<div>\n",
       "<style scoped>\n",
       "    .dataframe tbody tr th:only-of-type {\n",
       "        vertical-align: middle;\n",
       "    }\n",
       "\n",
       "    .dataframe tbody tr th {\n",
       "        vertical-align: top;\n",
       "    }\n",
       "\n",
       "    .dataframe thead th {\n",
       "        text-align: right;\n",
       "    }\n",
       "</style>\n",
       "<table border=\"1\" class=\"dataframe\">\n",
       "  <thead>\n",
       "    <tr style=\"text-align: right;\">\n",
       "      <th></th>\n",
       "      <th>host_response_rate</th>\n",
       "      <th>host_is_superhost</th>\n",
       "      <th>host_total_listings_count</th>\n",
       "      <th>latitude</th>\n",
       "      <th>longitude</th>\n",
       "      <th>is_location_exact</th>\n",
       "      <th>property_type</th>\n",
       "      <th>room_type</th>\n",
       "      <th>accommodates</th>\n",
       "      <th>bathrooms</th>\n",
       "      <th>...</th>\n",
       "      <th>review_scores_cleanliness</th>\n",
       "      <th>review_scores_checkin</th>\n",
       "      <th>review_scores_communication</th>\n",
       "      <th>review_scores_location</th>\n",
       "      <th>review_scores_value</th>\n",
       "      <th>is_business_travel_ready</th>\n",
       "      <th>cancellation_policy</th>\n",
       "      <th>require_guest_phone_verification</th>\n",
       "      <th>calculated_host_listings_count</th>\n",
       "      <th>reviews_per_month</th>\n",
       "    </tr>\n",
       "  </thead>\n",
       "  <tbody>\n",
       "    <tr>\n",
       "      <th>0</th>\n",
       "      <td>100%</td>\n",
       "      <td>f</td>\n",
       "      <td>2.0</td>\n",
       "      <td>-2.296.591.903.141.140,00</td>\n",
       "      <td>-4.317.896.230.586.560,00</td>\n",
       "      <td>t</td>\n",
       "      <td>Condominium</td>\n",
       "      <td>Entire home/apt</td>\n",
       "      <td>5</td>\n",
       "      <td>1.0</td>\n",
       "      <td>...</td>\n",
       "      <td>9.0</td>\n",
       "      <td>10.0</td>\n",
       "      <td>10.0</td>\n",
       "      <td>10.0</td>\n",
       "      <td>9.0</td>\n",
       "      <td>f</td>\n",
       "      <td>strict_14_with_grace_period</td>\n",
       "      <td>f</td>\n",
       "      <td>1</td>\n",
       "      <td>2.12</td>\n",
       "    </tr>\n",
       "    <tr>\n",
       "      <th>1</th>\n",
       "      <td>NaN</td>\n",
       "      <td>f</td>\n",
       "      <td>1.0</td>\n",
       "      <td>-229.856.978.888.963,00</td>\n",
       "      <td>-4.320.193.477.968.930,00</td>\n",
       "      <td>t</td>\n",
       "      <td>Apartment</td>\n",
       "      <td>Entire home/apt</td>\n",
       "      <td>2</td>\n",
       "      <td>1.0</td>\n",
       "      <td>...</td>\n",
       "      <td>10.0</td>\n",
       "      <td>10.0</td>\n",
       "      <td>10.0</td>\n",
       "      <td>10.0</td>\n",
       "      <td>9.0</td>\n",
       "      <td>f</td>\n",
       "      <td>strict_14_with_grace_period</td>\n",
       "      <td>f</td>\n",
       "      <td>1</td>\n",
       "      <td>0.85</td>\n",
       "    </tr>\n",
       "    <tr>\n",
       "      <th>2</th>\n",
       "      <td>100%</td>\n",
       "      <td>f</td>\n",
       "      <td>3.0</td>\n",
       "      <td>-22.977.116.804.101.800,00</td>\n",
       "      <td>-4.319.045.414.722.080,00</td>\n",
       "      <td>t</td>\n",
       "      <td>Apartment</td>\n",
       "      <td>Entire home/apt</td>\n",
       "      <td>3</td>\n",
       "      <td>1.0</td>\n",
       "      <td>...</td>\n",
       "      <td>10.0</td>\n",
       "      <td>10.0</td>\n",
       "      <td>10.0</td>\n",
       "      <td>10.0</td>\n",
       "      <td>9.0</td>\n",
       "      <td>f</td>\n",
       "      <td>strict_14_with_grace_period</td>\n",
       "      <td>t</td>\n",
       "      <td>3</td>\n",
       "      <td>2.11</td>\n",
       "    </tr>\n",
       "    <tr>\n",
       "      <th>3</th>\n",
       "      <td>100%</td>\n",
       "      <td>t</td>\n",
       "      <td>1.0</td>\n",
       "      <td>-2.298.302.369.705.460,00</td>\n",
       "      <td>-4.321.427.004.586.680,00</td>\n",
       "      <td>t</td>\n",
       "      <td>Apartment</td>\n",
       "      <td>Entire home/apt</td>\n",
       "      <td>3</td>\n",
       "      <td>1.0</td>\n",
       "      <td>...</td>\n",
       "      <td>10.0</td>\n",
       "      <td>10.0</td>\n",
       "      <td>10.0</td>\n",
       "      <td>10.0</td>\n",
       "      <td>9.0</td>\n",
       "      <td>f</td>\n",
       "      <td>strict_14_with_grace_period</td>\n",
       "      <td>f</td>\n",
       "      <td>1</td>\n",
       "      <td>2.27</td>\n",
       "    </tr>\n",
       "    <tr>\n",
       "      <th>4</th>\n",
       "      <td>95%</td>\n",
       "      <td>f</td>\n",
       "      <td>8.0</td>\n",
       "      <td>-2.299.866.853.833.120,00</td>\n",
       "      <td>-43.271.371.708.825.000,00</td>\n",
       "      <td>f</td>\n",
       "      <td>House</td>\n",
       "      <td>Entire home/apt</td>\n",
       "      <td>15</td>\n",
       "      <td>4.0</td>\n",
       "      <td>...</td>\n",
       "      <td>NaN</td>\n",
       "      <td>NaN</td>\n",
       "      <td>NaN</td>\n",
       "      <td>NaN</td>\n",
       "      <td>NaN</td>\n",
       "      <td>f</td>\n",
       "      <td>strict_14_with_grace_period</td>\n",
       "      <td>f</td>\n",
       "      <td>8</td>\n",
       "      <td>NaN</td>\n",
       "    </tr>\n",
       "    <tr>\n",
       "      <th>...</th>\n",
       "      <td>...</td>\n",
       "      <td>...</td>\n",
       "      <td>...</td>\n",
       "      <td>...</td>\n",
       "      <td>...</td>\n",
       "      <td>...</td>\n",
       "      <td>...</td>\n",
       "      <td>...</td>\n",
       "      <td>...</td>\n",
       "      <td>...</td>\n",
       "      <td>...</td>\n",
       "      <td>...</td>\n",
       "      <td>...</td>\n",
       "      <td>...</td>\n",
       "      <td>...</td>\n",
       "      <td>...</td>\n",
       "      <td>...</td>\n",
       "      <td>...</td>\n",
       "      <td>...</td>\n",
       "      <td>...</td>\n",
       "      <td>...</td>\n",
       "    </tr>\n",
       "    <tr>\n",
       "      <th>995</th>\n",
       "      <td>100%</td>\n",
       "      <td>t</td>\n",
       "      <td>1.0</td>\n",
       "      <td>-22.931.668.995.257.500,00</td>\n",
       "      <td>-4.318.712.033.714.620,00</td>\n",
       "      <td>t</td>\n",
       "      <td>Apartment</td>\n",
       "      <td>Entire home/apt</td>\n",
       "      <td>5</td>\n",
       "      <td>1.5</td>\n",
       "      <td>...</td>\n",
       "      <td>10.0</td>\n",
       "      <td>10.0</td>\n",
       "      <td>10.0</td>\n",
       "      <td>10.0</td>\n",
       "      <td>9.0</td>\n",
       "      <td>f</td>\n",
       "      <td>strict_14_with_grace_period</td>\n",
       "      <td>f</td>\n",
       "      <td>1</td>\n",
       "      <td>0.29</td>\n",
       "    </tr>\n",
       "    <tr>\n",
       "      <th>996</th>\n",
       "      <td>NaN</td>\n",
       "      <td>f</td>\n",
       "      <td>1.0</td>\n",
       "      <td>-2.291.459.598.347.680,00</td>\n",
       "      <td>-4.317.935.972.148.840,00</td>\n",
       "      <td>t</td>\n",
       "      <td>Apartment</td>\n",
       "      <td>Private room</td>\n",
       "      <td>2</td>\n",
       "      <td>1.0</td>\n",
       "      <td>...</td>\n",
       "      <td>NaN</td>\n",
       "      <td>NaN</td>\n",
       "      <td>NaN</td>\n",
       "      <td>NaN</td>\n",
       "      <td>NaN</td>\n",
       "      <td>f</td>\n",
       "      <td>moderate</td>\n",
       "      <td>f</td>\n",
       "      <td>1</td>\n",
       "      <td>NaN</td>\n",
       "    </tr>\n",
       "    <tr>\n",
       "      <th>997</th>\n",
       "      <td>86%</td>\n",
       "      <td>f</td>\n",
       "      <td>2.0</td>\n",
       "      <td>-2.296.257.355.441.420,00</td>\n",
       "      <td>-4.317.001.726.692.180,00</td>\n",
       "      <td>f</td>\n",
       "      <td>Apartment</td>\n",
       "      <td>Private room</td>\n",
       "      <td>3</td>\n",
       "      <td>1.5</td>\n",
       "      <td>...</td>\n",
       "      <td>9.0</td>\n",
       "      <td>10.0</td>\n",
       "      <td>10.0</td>\n",
       "      <td>10.0</td>\n",
       "      <td>9.0</td>\n",
       "      <td>f</td>\n",
       "      <td>moderate</td>\n",
       "      <td>f</td>\n",
       "      <td>2</td>\n",
       "      <td>0.18</td>\n",
       "    </tr>\n",
       "    <tr>\n",
       "      <th>998</th>\n",
       "      <td>100%</td>\n",
       "      <td>f</td>\n",
       "      <td>3.0</td>\n",
       "      <td>-22.917.888.791.255.800,00</td>\n",
       "      <td>-4.318.507.137.391.180,00</td>\n",
       "      <td>t</td>\n",
       "      <td>House</td>\n",
       "      <td>Private room</td>\n",
       "      <td>8</td>\n",
       "      <td>2.0</td>\n",
       "      <td>...</td>\n",
       "      <td>9.0</td>\n",
       "      <td>10.0</td>\n",
       "      <td>10.0</td>\n",
       "      <td>10.0</td>\n",
       "      <td>10.0</td>\n",
       "      <td>f</td>\n",
       "      <td>flexible</td>\n",
       "      <td>t</td>\n",
       "      <td>3</td>\n",
       "      <td>0.17</td>\n",
       "    </tr>\n",
       "    <tr>\n",
       "      <th>999</th>\n",
       "      <td>100%</td>\n",
       "      <td>f</td>\n",
       "      <td>3.0</td>\n",
       "      <td>-2.291.703.711.035.790,00</td>\n",
       "      <td>-4.318.625.033.438.320,00</td>\n",
       "      <td>t</td>\n",
       "      <td>House</td>\n",
       "      <td>Private room</td>\n",
       "      <td>8</td>\n",
       "      <td>2.0</td>\n",
       "      <td>...</td>\n",
       "      <td>NaN</td>\n",
       "      <td>NaN</td>\n",
       "      <td>NaN</td>\n",
       "      <td>NaN</td>\n",
       "      <td>NaN</td>\n",
       "      <td>f</td>\n",
       "      <td>flexible</td>\n",
       "      <td>t</td>\n",
       "      <td>3</td>\n",
       "      <td>NaN</td>\n",
       "    </tr>\n",
       "  </tbody>\n",
       "</table>\n",
       "<p>1000 rows × 38 columns</p>\n",
       "</div>"
      ],
      "text/plain": [
       "    host_response_rate host_is_superhost  host_total_listings_count  \\\n",
       "0                 100%                 f                        2.0   \n",
       "1                  NaN                 f                        1.0   \n",
       "2                 100%                 f                        3.0   \n",
       "3                 100%                 t                        1.0   \n",
       "4                  95%                 f                        8.0   \n",
       "..                 ...               ...                        ...   \n",
       "995               100%                 t                        1.0   \n",
       "996                NaN                 f                        1.0   \n",
       "997                86%                 f                        2.0   \n",
       "998               100%                 f                        3.0   \n",
       "999               100%                 f                        3.0   \n",
       "\n",
       "                       latitude                   longitude is_location_exact  \\\n",
       "0     -2.296.591.903.141.140,00   -4.317.896.230.586.560,00                 t   \n",
       "1       -229.856.978.888.963,00   -4.320.193.477.968.930,00                 t   \n",
       "2    -22.977.116.804.101.800,00   -4.319.045.414.722.080,00                 t   \n",
       "3     -2.298.302.369.705.460,00   -4.321.427.004.586.680,00                 t   \n",
       "4     -2.299.866.853.833.120,00  -43.271.371.708.825.000,00                 f   \n",
       "..                          ...                         ...               ...   \n",
       "995  -22.931.668.995.257.500,00   -4.318.712.033.714.620,00                 t   \n",
       "996   -2.291.459.598.347.680,00   -4.317.935.972.148.840,00                 t   \n",
       "997   -2.296.257.355.441.420,00   -4.317.001.726.692.180,00                 f   \n",
       "998  -22.917.888.791.255.800,00   -4.318.507.137.391.180,00                 t   \n",
       "999   -2.291.703.711.035.790,00   -4.318.625.033.438.320,00                 t   \n",
       "\n",
       "    property_type        room_type  accommodates  bathrooms  ...  \\\n",
       "0     Condominium  Entire home/apt             5        1.0  ...   \n",
       "1       Apartment  Entire home/apt             2        1.0  ...   \n",
       "2       Apartment  Entire home/apt             3        1.0  ...   \n",
       "3       Apartment  Entire home/apt             3        1.0  ...   \n",
       "4           House  Entire home/apt            15        4.0  ...   \n",
       "..            ...              ...           ...        ...  ...   \n",
       "995     Apartment  Entire home/apt             5        1.5  ...   \n",
       "996     Apartment     Private room             2        1.0  ...   \n",
       "997     Apartment     Private room             3        1.5  ...   \n",
       "998         House     Private room             8        2.0  ...   \n",
       "999         House     Private room             8        2.0  ...   \n",
       "\n",
       "     review_scores_cleanliness  review_scores_checkin  \\\n",
       "0                          9.0                   10.0   \n",
       "1                         10.0                   10.0   \n",
       "2                         10.0                   10.0   \n",
       "3                         10.0                   10.0   \n",
       "4                          NaN                    NaN   \n",
       "..                         ...                    ...   \n",
       "995                       10.0                   10.0   \n",
       "996                        NaN                    NaN   \n",
       "997                        9.0                   10.0   \n",
       "998                        9.0                   10.0   \n",
       "999                        NaN                    NaN   \n",
       "\n",
       "    review_scores_communication review_scores_location  review_scores_value  \\\n",
       "0                          10.0                   10.0                  9.0   \n",
       "1                          10.0                   10.0                  9.0   \n",
       "2                          10.0                   10.0                  9.0   \n",
       "3                          10.0                   10.0                  9.0   \n",
       "4                           NaN                    NaN                  NaN   \n",
       "..                          ...                    ...                  ...   \n",
       "995                        10.0                   10.0                  9.0   \n",
       "996                         NaN                    NaN                  NaN   \n",
       "997                        10.0                   10.0                  9.0   \n",
       "998                        10.0                   10.0                 10.0   \n",
       "999                         NaN                    NaN                  NaN   \n",
       "\n",
       "    is_business_travel_ready          cancellation_policy  \\\n",
       "0                          f  strict_14_with_grace_period   \n",
       "1                          f  strict_14_with_grace_period   \n",
       "2                          f  strict_14_with_grace_period   \n",
       "3                          f  strict_14_with_grace_period   \n",
       "4                          f  strict_14_with_grace_period   \n",
       "..                       ...                          ...   \n",
       "995                        f  strict_14_with_grace_period   \n",
       "996                        f                     moderate   \n",
       "997                        f                     moderate   \n",
       "998                        f                     flexible   \n",
       "999                        f                     flexible   \n",
       "\n",
       "    require_guest_phone_verification calculated_host_listings_count  \\\n",
       "0                                  f                              1   \n",
       "1                                  f                              1   \n",
       "2                                  t                              3   \n",
       "3                                  f                              1   \n",
       "4                                  f                              8   \n",
       "..                               ...                            ...   \n",
       "995                                f                              1   \n",
       "996                                f                              1   \n",
       "997                                f                              2   \n",
       "998                                t                              3   \n",
       "999                                t                              3   \n",
       "\n",
       "    reviews_per_month  \n",
       "0                2.12  \n",
       "1                0.85  \n",
       "2                2.11  \n",
       "3                2.27  \n",
       "4                 NaN  \n",
       "..                ...  \n",
       "995              0.29  \n",
       "996               NaN  \n",
       "997              0.18  \n",
       "998              0.17  \n",
       "999               NaN  \n",
       "\n",
       "[1000 rows x 38 columns]"
      ]
     },
     "execution_count": 9,
     "metadata": {},
     "output_type": "execute_result"
    }
   ],
   "source": [
    "base_airbnb"
   ]
  },
  {
   "cell_type": "code",
   "execution_count": 11,
   "metadata": {},
   "outputs": [
    {
     "name": "stdout",
     "output_type": "stream",
     "text": [
      "host_is_superhost                   0\n",
      "host_total_listings_count           0\n",
      "latitude                            0\n",
      "longitude                           0\n",
      "is_location_exact                   0\n",
      "property_type                       0\n",
      "room_type                           0\n",
      "accommodates                        0\n",
      "bed_type                            0\n",
      "amenities                           0\n",
      "price                               0\n",
      "guests_included                     0\n",
      "extra_people                        0\n",
      "minimum_nights                      0\n",
      "maximum_nights                      0\n",
      "has_availability                    0\n",
      "number_of_reviews                   0\n",
      "is_business_travel_ready            0\n",
      "cancellation_policy                 0\n",
      "require_guest_phone_verification    0\n",
      "calculated_host_listings_count      0\n",
      "dtype: int64\n"
     ]
    }
   ],
   "source": [
    "for coluna in base_airbnb:\n",
    "    if base_airbnb[coluna].isnull().sum() > 10:\n",
    "        base_airbnb = base_airbnb.dropna(axis=0)\n",
    "print(base_airbnb.isnull().sum())"
   ]
  },
  {
   "cell_type": "code",
   "execution_count": 12,
   "metadata": {},
   "outputs": [
    {
     "data": {
      "text/plain": [
       "(1000, 21)"
      ]
     },
     "execution_count": 12,
     "metadata": {},
     "output_type": "execute_result"
    }
   ],
   "source": [
    "base_airbnb.shape"
   ]
  },
  {
   "cell_type": "code",
   "execution_count": 13,
   "metadata": {},
   "outputs": [
    {
     "data": {
      "text/plain": [
       "host_is_superhost                    object\n",
       "host_total_listings_count           float64\n",
       "latitude                             object\n",
       "longitude                            object\n",
       "is_location_exact                    object\n",
       "property_type                        object\n",
       "room_type                            object\n",
       "accommodates                          int64\n",
       "bed_type                             object\n",
       "amenities                            object\n",
       "price                                object\n",
       "guests_included                       int64\n",
       "extra_people                         object\n",
       "minimum_nights                        int64\n",
       "maximum_nights                        int64\n",
       "has_availability                     object\n",
       "number_of_reviews                     int64\n",
       "is_business_travel_ready             object\n",
       "cancellation_policy                  object\n",
       "require_guest_phone_verification     object\n",
       "calculated_host_listings_count        int64\n",
       "dtype: object"
      ]
     },
     "execution_count": 13,
     "metadata": {},
     "output_type": "execute_result"
    }
   ],
   "source": [
    "base_airbnb.dtypes"
   ]
  },
  {
   "cell_type": "code",
   "execution_count": 14,
   "metadata": {},
   "outputs": [
    {
     "name": "stdout",
     "output_type": "stream",
     "text": [
      "host_is_superhost                                                                   f\n",
      "host_total_listings_count                                                         2.0\n",
      "latitude                                                    -2.296.591.903.141.140,00\n",
      "longitude                                                   -4.317.896.230.586.560,00\n",
      "is_location_exact                                                                   t\n",
      "property_type                                                             Condominium\n",
      "room_type                                                             Entire home/apt\n",
      "accommodates                                                                        5\n",
      "bed_type                                                                     Real Bed\n",
      "amenities                           {TV,\"Cable TV\",Internet,Wifi,\"Air conditioning...\n",
      "price                                                                         $306.00\n",
      "guests_included                                                                     2\n",
      "extra_people                                                                   $58.00\n",
      "minimum_nights                                                                      4\n",
      "maximum_nights                                                                     90\n",
      "has_availability                                                                    t\n",
      "number_of_reviews                                                                 217\n",
      "is_business_travel_ready                                                            f\n",
      "cancellation_policy                                       strict_14_with_grace_period\n",
      "require_guest_phone_verification                                                    f\n",
      "calculated_host_listings_count                                                      1\n",
      "Name: 0, dtype: object\n"
     ]
    }
   ],
   "source": [
    "print(base_airbnb.iloc[0])"
   ]
  },
  {
   "cell_type": "markdown",
   "metadata": {},
   "source": [
    "Como existem alguns tipos de valores que não estão no tipo correto, será realizado realizado uma análise e modificação para o tipo correto.\n",
    "Os tipos que estão incorretos são;\n",
    "\n",
    "* latitude\n",
    "* longitude\n",
    "* price\n",
    "\n",
    "Se não for realizado essa modificação, quando for realizado o treinamento dos dados, poderá ocorrer um erro de aprendizagem."
   ]
  },
  {
   "cell_type": "code",
   "execution_count": 15,
   "metadata": {},
   "outputs": [
    {
     "name": "stderr",
     "output_type": "stream",
     "text": [
      "/tmp/ipykernel_20952/1393777675.py:1: FutureWarning: The default value of regex will change from True to False in a future version. In addition, single character regular expressions will *not* be treated as literal strings when regex=True.\n",
      "  base_airbnb[\"price\"] = base_airbnb[\"price\"].str.replace(\"$\", \"\")\n",
      "/tmp/ipykernel_20952/1393777675.py:1: SettingWithCopyWarning: \n",
      "A value is trying to be set on a copy of a slice from a DataFrame.\n",
      "Try using .loc[row_indexer,col_indexer] = value instead\n",
      "\n",
      "See the caveats in the documentation: https://pandas.pydata.org/pandas-docs/stable/user_guide/indexing.html#returning-a-view-versus-a-copy\n",
      "  base_airbnb[\"price\"] = base_airbnb[\"price\"].str.replace(\"$\", \"\")\n",
      "/tmp/ipykernel_20952/1393777675.py:2: SettingWithCopyWarning: \n",
      "A value is trying to be set on a copy of a slice from a DataFrame.\n",
      "Try using .loc[row_indexer,col_indexer] = value instead\n",
      "\n",
      "See the caveats in the documentation: https://pandas.pydata.org/pandas-docs/stable/user_guide/indexing.html#returning-a-view-versus-a-copy\n",
      "  base_airbnb[\"price\"] = base_airbnb[\"price\"].str.replace(\",\", \"\")\n",
      "/tmp/ipykernel_20952/1393777675.py:3: SettingWithCopyWarning: \n",
      "A value is trying to be set on a copy of a slice from a DataFrame.\n",
      "Try using .loc[row_indexer,col_indexer] = value instead\n",
      "\n",
      "See the caveats in the documentation: https://pandas.pydata.org/pandas-docs/stable/user_guide/indexing.html#returning-a-view-versus-a-copy\n",
      "  base_airbnb[\"price\"] = base_airbnb[\"price\"].astype(np.float32, copy = False)\n"
     ]
    }
   ],
   "source": [
    "base_airbnb[\"price\"] = base_airbnb[\"price\"].str.replace(\"$\", \"\")\n",
    "base_airbnb[\"price\"] = base_airbnb[\"price\"].str.replace(\",\", \"\")\n",
    "base_airbnb[\"price\"] = base_airbnb[\"price\"].astype(np.float32, copy = False)"
   ]
  },
  {
   "cell_type": "code",
   "execution_count": 16,
   "metadata": {},
   "outputs": [
    {
     "name": "stderr",
     "output_type": "stream",
     "text": [
      "/tmp/ipykernel_20952/3431004759.py:1: SettingWithCopyWarning: \n",
      "A value is trying to be set on a copy of a slice from a DataFrame.\n",
      "Try using .loc[row_indexer,col_indexer] = value instead\n",
      "\n",
      "See the caveats in the documentation: https://pandas.pydata.org/pandas-docs/stable/user_guide/indexing.html#returning-a-view-versus-a-copy\n",
      "  base_airbnb[\"latitude\"] = base_airbnb[\"latitude\"].str.replace(\",\", \".\")\n",
      "/tmp/ipykernel_20952/3431004759.py:2: FutureWarning: The default value of regex will change from True to False in a future version. In addition, single character regular expressions will *not* be treated as literal strings when regex=True.\n",
      "  base_airbnb[\"latitude\"] = base_airbnb[\"latitude\"].str.replace(\".\", \"\")\n",
      "/tmp/ipykernel_20952/3431004759.py:2: SettingWithCopyWarning: \n",
      "A value is trying to be set on a copy of a slice from a DataFrame.\n",
      "Try using .loc[row_indexer,col_indexer] = value instead\n",
      "\n",
      "See the caveats in the documentation: https://pandas.pydata.org/pandas-docs/stable/user_guide/indexing.html#returning-a-view-versus-a-copy\n",
      "  base_airbnb[\"latitude\"] = base_airbnb[\"latitude\"].str.replace(\".\", \"\")\n",
      "/tmp/ipykernel_20952/3431004759.py:3: SettingWithCopyWarning: \n",
      "A value is trying to be set on a copy of a slice from a DataFrame.\n",
      "Try using .loc[row_indexer,col_indexer] = value instead\n",
      "\n",
      "See the caveats in the documentation: https://pandas.pydata.org/pandas-docs/stable/user_guide/indexing.html#returning-a-view-versus-a-copy\n",
      "  base_airbnb[\"latitude\"] = base_airbnb[\"latitude\"].astype(np.float32, copy=False)\n"
     ]
    }
   ],
   "source": [
    "base_airbnb[\"latitude\"] = base_airbnb[\"latitude\"].str.replace(\",\", \".\")\n",
    "base_airbnb[\"latitude\"] = base_airbnb[\"latitude\"].str.replace(\".\", \"\")\n",
    "base_airbnb[\"latitude\"] = base_airbnb[\"latitude\"].astype(np.float32, copy=False)"
   ]
  },
  {
   "cell_type": "code",
   "execution_count": 17,
   "metadata": {},
   "outputs": [
    {
     "name": "stderr",
     "output_type": "stream",
     "text": [
      "/tmp/ipykernel_20952/368924496.py:1: SettingWithCopyWarning: \n",
      "A value is trying to be set on a copy of a slice from a DataFrame.\n",
      "Try using .loc[row_indexer,col_indexer] = value instead\n",
      "\n",
      "See the caveats in the documentation: https://pandas.pydata.org/pandas-docs/stable/user_guide/indexing.html#returning-a-view-versus-a-copy\n",
      "  base_airbnb[\"longitude\"] = base_airbnb[\"longitude\"].str.replace(\",\", \".\")\n",
      "/tmp/ipykernel_20952/368924496.py:2: FutureWarning: The default value of regex will change from True to False in a future version. In addition, single character regular expressions will *not* be treated as literal strings when regex=True.\n",
      "  base_airbnb[\"longitude\"] = base_airbnb[\"longitude\"].str.replace(\".\", \"\")\n",
      "/tmp/ipykernel_20952/368924496.py:2: SettingWithCopyWarning: \n",
      "A value is trying to be set on a copy of a slice from a DataFrame.\n",
      "Try using .loc[row_indexer,col_indexer] = value instead\n",
      "\n",
      "See the caveats in the documentation: https://pandas.pydata.org/pandas-docs/stable/user_guide/indexing.html#returning-a-view-versus-a-copy\n",
      "  base_airbnb[\"longitude\"] = base_airbnb[\"longitude\"].str.replace(\".\", \"\")\n",
      "/tmp/ipykernel_20952/368924496.py:3: SettingWithCopyWarning: \n",
      "A value is trying to be set on a copy of a slice from a DataFrame.\n",
      "Try using .loc[row_indexer,col_indexer] = value instead\n",
      "\n",
      "See the caveats in the documentation: https://pandas.pydata.org/pandas-docs/stable/user_guide/indexing.html#returning-a-view-versus-a-copy\n",
      "  base_airbnb[\"longitude\"] = base_airbnb[\"longitude\"].astype(np.float32, copy=False)\n"
     ]
    }
   ],
   "source": [
    "base_airbnb[\"longitude\"] = base_airbnb[\"longitude\"].str.replace(\",\", \".\")\n",
    "base_airbnb[\"longitude\"] = base_airbnb[\"longitude\"].str.replace(\".\", \"\")\n",
    "base_airbnb[\"longitude\"] = base_airbnb[\"longitude\"].astype(np.float32, copy=False)"
   ]
  },
  {
   "cell_type": "code",
   "execution_count": 18,
   "metadata": {},
   "outputs": [
    {
     "data": {
      "text/plain": [
       "<AxesSubplot:>"
      ]
     },
     "execution_count": 18,
     "metadata": {},
     "output_type": "execute_result"
    },
    {
     "data": {
      "image/png": "[encoded data removed]",
      "text/plain": [
       "<Figure size 1080x720 with 2 Axes>"
      ]
     },
     "metadata": {
      "needs_background": "light"
     },
     "output_type": "display_data"
    }
   ],
   "source": [
    "plt.figure(figsize = (15, 10))\n",
    "sns.heatmap(base_airbnb.corr(), annot = True, cmap = \"Blues\")"
   ]
  },
  {
   "cell_type": "code",
   "execution_count": 19,
   "metadata": {},
   "outputs": [],
   "source": [
    "def limites(coluna):\n",
    "    quartil_01 = coluna.quantile(0.25)\n",
    "    quartil_03 = coluna.quantile(0.75)\n",
    "    amplitude = quartil_03 - quartil_01\n",
    "    limite_inferior = quartil_01 - 1.5 * amplitude\n",
    "    limite_superior = quartil_03 + 1.5 * amplitude\n",
    "    return limite_inferior, limite_superior\n",
    "\n",
    "def excluir_outliers(df, nome_coluna):\n",
    "    qtde_linhas = df.shape[0]\n",
    "    lim_inf, lim_sup = limites(df[nome_coluna])\n",
    "    df = df.loc[(df[coluna] > lim_sup) & (df[coluna] <= lim_inf), :]\n",
    "    linhas_removidas = qtde_linhas - df.shape[0]\n",
    "    return df, linhas_removidas"
   ]
  },
  {
   "cell_type": "code",
   "execution_count": 20,
   "metadata": {},
   "outputs": [
    {
     "data": {
      "text/plain": [
       "(-221.0, 771.0)"
      ]
     },
     "execution_count": 20,
     "metadata": {},
     "output_type": "execute_result"
    }
   ],
   "source": [
    "limites(base_airbnb[\"price\"])"
   ]
  },
  {
   "cell_type": "code",
   "execution_count": 21,
   "metadata": {},
   "outputs": [],
   "source": [
    "def diagrama_caixa(coluna):\n",
    "    fig, (ax1, ax2) = plt.subplots(1, 2)\n",
    "    fig.set_size_inches(15, 5)\n",
    "    sns.boxplot(x = coluna, ax = ax1)\n",
    "    ax2.set_xlim(limites(coluna))\n",
    "    sns.boxplot(x = coluna, ax = ax2)\n",
    "\n",
    "def histograma(coluna):\n",
    "    plt.figure(figsize = (15, 5))\n",
    "    sns.distplot(coluna, hist = True)\n",
    "def grafico_barra(coluna):\n",
    "    plt.figure(figsize = (15, 5))\n",
    "    sns.barplot(x = coluna.value_counts().index, y = coluna.value_counts())\n",
    "    "
   ]
  },
  {
   "cell_type": "code",
   "execution_count": 22,
   "metadata": {},
   "outputs": [
    {
     "name": "stderr",
     "output_type": "stream",
     "text": [
      "/home/diego/.local/lib/python3.9/site-packages/seaborn/distributions.py:2619: FutureWarning: `distplot` is a deprecated function and will be removed in a future version. Please adapt your code to use either `displot` (a figure-level function with similar flexibility) or `histplot` (an axes-level function for histograms).\n",
      "  warnings.warn(msg, FutureWarning)\n"
     ]
    },
    {
     "data": {
      "image/png": "[encoded data removed]",
      "text/plain": [
       "<Figure size 1080x360 with 2 Axes>"
      ]
     },
     "metadata": {
      "needs_background": "light"
     },
     "output_type": "display_data"
    },
    {
     "data": {
      "image/png": "[encoded data removed]",
      "text/plain": [
       "<Figure size 1080x360 with 1 Axes>"
      ]
     },
     "metadata": {
      "needs_background": "light"
     },
     "output_type": "display_data"
    }
   ],
   "source": [
    "diagrama_caixa(base_airbnb[\"price\"])\n",
    "histograma(base_airbnb[\"price\"])"
   ]
  },
  {
   "cell_type": "code",
   "execution_count": 23,
   "metadata": {},
   "outputs": [
    {
     "data": {
      "text/plain": [
       "count     1000.000000\n",
       "mean       430.838989\n",
       "std       1027.936035\n",
       "min         31.000000\n",
       "25%        151.000000\n",
       "50%        232.000000\n",
       "75%        399.000000\n",
       "max      25000.000000\n",
       "Name: price, dtype: float64"
      ]
     },
     "execution_count": 23,
     "metadata": {},
     "output_type": "execute_result"
    }
   ],
   "source": [
    "base_airbnb[\"price\"].describe()"
   ]
  },
  {
   "cell_type": "code",
   "execution_count": 24,
   "metadata": {},
   "outputs": [
    {
     "name": "stdout",
     "output_type": "stream",
     "text": [
      "host_is_superhost                                                                   f\n",
      "host_total_listings_count                                                         2.0\n",
      "latitude                                                        -229659185581654016.0\n",
      "longitude                                                       -431789623660773376.0\n",
      "is_location_exact                                                                   t\n",
      "property_type                                                             Condominium\n",
      "room_type                                                             Entire home/apt\n",
      "accommodates                                                                        5\n",
      "bed_type                                                                     Real Bed\n",
      "amenities                           {TV,\"Cable TV\",Internet,Wifi,\"Air conditioning...\n",
      "price                                                                           306.0\n",
      "guests_included                                                                     2\n",
      "extra_people                                                                   $58.00\n",
      "minimum_nights                                                                      4\n",
      "maximum_nights                                                                     90\n",
      "has_availability                                                                    t\n",
      "number_of_reviews                                                                 217\n",
      "is_business_travel_ready                                                            f\n",
      "cancellation_policy                                       strict_14_with_grace_period\n",
      "require_guest_phone_verification                                                    f\n",
      "calculated_host_listings_count                                                      1\n",
      "Name: 0, dtype: object\n"
     ]
    }
   ],
   "source": [
    "print(base_airbnb.iloc[0])"
   ]
  },
  {
   "cell_type": "code",
   "execution_count": 25,
   "metadata": {},
   "outputs": [
    {
     "name": "stderr",
     "output_type": "stream",
     "text": [
      "/tmp/ipykernel_20952/2467797035.py:1: FutureWarning: The default value of regex will change from True to False in a future version. In addition, single character regular expressions will *not* be treated as literal strings when regex=True.\n",
      "  base_airbnb[\"extra_people\"] = base_airbnb[\"extra_people\"].str.replace(\"$\", \"\")\n",
      "/tmp/ipykernel_20952/2467797035.py:1: SettingWithCopyWarning: \n",
      "A value is trying to be set on a copy of a slice from a DataFrame.\n",
      "Try using .loc[row_indexer,col_indexer] = value instead\n",
      "\n",
      "See the caveats in the documentation: https://pandas.pydata.org/pandas-docs/stable/user_guide/indexing.html#returning-a-view-versus-a-copy\n",
      "  base_airbnb[\"extra_people\"] = base_airbnb[\"extra_people\"].str.replace(\"$\", \"\")\n",
      "/tmp/ipykernel_20952/2467797035.py:2: SettingWithCopyWarning: \n",
      "A value is trying to be set on a copy of a slice from a DataFrame.\n",
      "Try using .loc[row_indexer,col_indexer] = value instead\n",
      "\n",
      "See the caveats in the documentation: https://pandas.pydata.org/pandas-docs/stable/user_guide/indexing.html#returning-a-view-versus-a-copy\n",
      "  base_airbnb[\"extra_people\"] = base_airbnb[\"extra_people\"].str.replace(\",\", \"\")\n",
      "/tmp/ipykernel_20952/2467797035.py:3: SettingWithCopyWarning: \n",
      "A value is trying to be set on a copy of a slice from a DataFrame.\n",
      "Try using .loc[row_indexer,col_indexer] = value instead\n",
      "\n",
      "See the caveats in the documentation: https://pandas.pydata.org/pandas-docs/stable/user_guide/indexing.html#returning-a-view-versus-a-copy\n",
      "  base_airbnb[\"extra_people\"] = base_airbnb[\"extra_people\"].astype(np.float32, copy = False)\n"
     ]
    }
   ],
   "source": [
    "base_airbnb[\"extra_people\"] = base_airbnb[\"extra_people\"].str.replace(\"$\", \"\")\n",
    "base_airbnb[\"extra_people\"] = base_airbnb[\"extra_people\"].str.replace(\",\", \"\")\n",
    "base_airbnb[\"extra_people\"] = base_airbnb[\"extra_people\"].astype(np.float32, copy = False)\n"
   ]
  },
  {
   "cell_type": "code",
   "execution_count": 26,
   "metadata": {},
   "outputs": [
    {
     "name": "stderr",
     "output_type": "stream",
     "text": [
      "/home/diego/.local/lib/python3.9/site-packages/seaborn/distributions.py:2619: FutureWarning: `distplot` is a deprecated function and will be removed in a future version. Please adapt your code to use either `displot` (a figure-level function with similar flexibility) or `histplot` (an axes-level function for histograms).\n",
      "  warnings.warn(msg, FutureWarning)\n"
     ]
    },
    {
     "data": {
      "image/png": "[encoded data removed]",
      "text/plain": [
       "<Figure size 1080x360 with 2 Axes>"
      ]
     },
     "metadata": {
      "needs_background": "light"
     },
     "output_type": "display_data"
    },
    {
     "data": {
      "image/png": "[encoded data removed]",
      "text/plain": [
       "<Figure size 1080x360 with 1 Axes>"
      ]
     },
     "metadata": {
      "needs_background": "light"
     },
     "output_type": "display_data"
    }
   ],
   "source": [
    "diagrama_caixa(base_airbnb[\"extra_people\"])\n",
    "histograma(base_airbnb[\"extra_people\"])"
   ]
  },
  {
   "cell_type": "code",
   "execution_count": 27,
   "metadata": {},
   "outputs": [
    {
     "name": "stderr",
     "output_type": "stream",
     "text": [
      "/home/diego/.local/lib/python3.9/site-packages/seaborn/distributions.py:2619: FutureWarning: `distplot` is a deprecated function and will be removed in a future version. Please adapt your code to use either `displot` (a figure-level function with similar flexibility) or `histplot` (an axes-level function for histograms).\n",
      "  warnings.warn(msg, FutureWarning)\n"
     ]
    },
    {
     "data": {
      "image/png": "[encoded data removed]",
      "text/plain": [
       "<Figure size 1080x360 with 2 Axes>"
      ]
     },
     "metadata": {
      "needs_background": "light"
     },
     "output_type": "display_data"
    },
    {
     "data": {
      "image/png": "[encoded data removed]",
      "text/plain": [
       "<Figure size 1080x360 with 1 Axes>"
      ]
     },
     "metadata": {
      "needs_background": "light"
     },
     "output_type": "display_data"
    }
   ],
   "source": [
    "diagrama_caixa(base_airbnb[\"host_total_listings_count\"])\n",
    "histograma(base_airbnb[\"host_total_listings_count\"])"
   ]
  },
  {
   "cell_type": "code",
   "execution_count": 28,
   "metadata": {},
   "outputs": [
    {
     "data": {
      "image/png": "[encoded data removed]",
      "text/plain": [
       "<Figure size 1080x360 with 2 Axes>"
      ]
     },
     "metadata": {
      "needs_background": "light"
     },
     "output_type": "display_data"
    },
    {
     "data": {
      "image/png": "[encoded data removed]",
      "text/plain": [
       "<Figure size 1080x360 with 1 Axes>"
      ]
     },
     "metadata": {
      "needs_background": "light"
     },
     "output_type": "display_data"
    }
   ],
   "source": [
    "diagrama_caixa(base_airbnb[\"host_total_listings_count\"])\n",
    "grafico_barra(base_airbnb[\"host_total_listings_count\"])"
   ]
  },
  {
   "cell_type": "code",
   "execution_count": 29,
   "metadata": {},
   "outputs": [
    {
     "data": {
      "image/png": "[encoded data removed]",
      "text/plain": [
       "<Figure size 1080x360 with 2 Axes>"
      ]
     },
     "metadata": {
      "needs_background": "light"
     },
     "output_type": "display_data"
    },
    {
     "data": {
      "image/png": "[encoded data removed]",
      "text/plain": [
       "<Figure size 1080x360 with 1 Axes>"
      ]
     },
     "metadata": {
      "needs_background": "light"
     },
     "output_type": "display_data"
    }
   ],
   "source": [
    "diagrama_caixa(base_airbnb[\"accommodates\"])\n",
    "grafico_barra(base_airbnb[\"accommodates\"])"
   ]
  },
  {
   "cell_type": "code",
   "execution_count": 30,
   "metadata": {},
   "outputs": [
    {
     "data": {
      "image/png": "[encoded data removed]",
      "text/plain": [
       "<Figure size 1080x360 with 2 Axes>"
      ]
     },
     "metadata": {
      "needs_background": "light"
     },
     "output_type": "display_data"
    },
    {
     "data": {
      "image/png": "[encoded data removed]",
      "text/plain": [
       "<Figure size 1080x360 with 1 Axes>"
      ]
     },
     "metadata": {
      "needs_background": "light"
     },
     "output_type": "display_data"
    }
   ],
   "source": [
    "diagrama_caixa(base_airbnb[\"minimum_nights\"])\n",
    "grafico_barra(base_airbnb[\"minimum_nights\"])"
   ]
  },
  {
   "cell_type": "code",
   "execution_count": 31,
   "metadata": {},
   "outputs": [
    {
     "name": "stderr",
     "output_type": "stream",
     "text": [
      "/home/diego/.local/lib/python3.9/site-packages/seaborn/distributions.py:2619: FutureWarning: `distplot` is a deprecated function and will be removed in a future version. Please adapt your code to use either `displot` (a figure-level function with similar flexibility) or `histplot` (an axes-level function for histograms).\n",
      "  warnings.warn(msg, FutureWarning)\n"
     ]
    },
    {
     "data": {
      "image/png": "[encoded data removed]",
      "text/plain": [
       "<Figure size 1080x360 with 2 Axes>"
      ]
     },
     "metadata": {
      "needs_background": "light"
     },
     "output_type": "display_data"
    },
    {
     "data": {
      "image/png": "[encoded data removed]",
      "text/plain": [
       "<Figure size 1080x360 with 1 Axes>"
      ]
     },
     "metadata": {
      "needs_background": "light"
     },
     "output_type": "display_data"
    },
    {
     "data": {
      "image/png": "[encoded data removed]",
      "text/plain": [
       "<Figure size 1080x360 with 1 Axes>"
      ]
     },
     "metadata": {
      "needs_background": "light"
     },
     "output_type": "display_data"
    }
   ],
   "source": [
    "diagrama_caixa(base_airbnb[\"maximum_nights\"])\n",
    "grafico_barra(base_airbnb[\"maximum_nights\"])\n",
    "histograma(base_airbnb[\"maximum_nights\"])"
   ]
  },
  {
   "cell_type": "code",
   "execution_count": 33,
   "metadata": {},
   "outputs": [
    {
     "name": "stderr",
     "output_type": "stream",
     "text": [
      "/home/diego/.local/lib/python3.9/site-packages/seaborn/distributions.py:2619: FutureWarning: `distplot` is a deprecated function and will be removed in a future version. Please adapt your code to use either `displot` (a figure-level function with similar flexibility) or `histplot` (an axes-level function for histograms).\n",
      "  warnings.warn(msg, FutureWarning)\n"
     ]
    },
    {
     "data": {
      "image/png": "[encoded data removed]",
      "text/plain": [
       "<Figure size 1080x360 with 2 Axes>"
      ]
     },
     "metadata": {
      "needs_background": "light"
     },
     "output_type": "display_data"
    },
    {
     "data": {
      "image/png": "[encoded data removed]",
      "text/plain": [
       "<Figure size 1080x360 with 1 Axes>"
      ]
     },
     "metadata": {
      "needs_background": "light"
     },
     "output_type": "display_data"
    }
   ],
   "source": [
    "diagrama_caixa(base_airbnb[\"number_of_reviews\"])\n",
    "histograma(base_airbnb[\"number_of_reviews\"])"
   ]
  },
  {
   "cell_type": "code",
   "execution_count": 34,
   "metadata": {},
   "outputs": [
    {
     "name": "stdout",
     "output_type": "stream",
     "text": [
      "Apartment             759\n",
      "House                 124\n",
      "Condominium            33\n",
      "Loft                   23\n",
      "Bed and breakfast      17\n",
      "Serviced apartment     15\n",
      "Guest suite             8\n",
      "Hostel                  8\n",
      "Guesthouse              4\n",
      "Townhouse               2\n",
      "Other                   2\n",
      "Earth house             1\n",
      "Chalet                  1\n",
      "Bungalow                1\n",
      "Boutique hotel          1\n",
      "Treehouse               1\n",
      "Name: property_type, dtype: int64\n"
     ]
    }
   ],
   "source": [
    "print(base_airbnb[\"property_type\"].value_counts())"
   ]
  },
  {
   "cell_type": "code",
   "execution_count": 36,
   "metadata": {},
   "outputs": [
    {
     "name": "stderr",
     "output_type": "stream",
     "text": [
      "/home/diego/.local/lib/python3.9/site-packages/seaborn/_decorators.py:36: FutureWarning: Pass the following variable as a keyword arg: x. From version 0.12, the only valid positional argument will be `data`, and passing other arguments without an explicit keyword will result in an error or misinterpretation.\n",
      "  warnings.warn(\n"
     ]
    },
    {
     "data": {
      "image/png": "[encoded data removed]",
      "text/plain": [
       "<Figure size 1080x576 with 1 Axes>"
      ]
     },
     "metadata": {
      "needs_background": "light"
     },
     "output_type": "display_data"
    }
   ],
   "source": [
    "plt.figure(figsize=(15,8))\n",
    "grafico = sns.countplot(\"property_type\", data = base_airbnb)\n",
    "grafico.tick_params(axis = \"x\", rotation = 90)"
   ]
  },
  {
   "cell_type": "code",
   "execution_count": null,
   "metadata": {},
   "outputs": [],
   "source": []
  }
 ],
 "metadata": {
  "colab": {
   "name": "Data_Science - Aplicação_ mercado_trabalho.ipynb",
   "provenance": []
  },
  "kernelspec": {
   "display_name": "Python 3 (ipykernel)",
   "language": "python",
   "name": "python3"
  },
  "language_info": {
   "codemirror_mode": {
    "name": "ipython",
    "version": 3
   },
   "file_extension": ".py",
   "mimetype": "text/x-python",
   "name": "python",
   "nbconvert_exporter": "python",
   "pygments_lexer": "ipython3",
   "version": "3.9.2"
  }
 },
 "nbformat": 4,
 "nbformat_minor": 1
}
